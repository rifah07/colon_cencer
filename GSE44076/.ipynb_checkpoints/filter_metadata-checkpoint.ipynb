{
 "cells": [
  {
   "cell_type": "code",
   "execution_count": 1,
   "id": "c7e20413-a1dd-4772-b866-f681d5d88081",
   "metadata": {},
   "outputs": [],
   "source": [
    "import pandas as pd"
   ]
  },
  {
   "cell_type": "code",
   "execution_count": 2,
   "id": "37f5fad6-5fdb-44cd-960c-05769cb9f67a",
   "metadata": {},
   "outputs": [
    {
     "name": "stdout",
     "output_type": "stream",
     "text": [
      "Filtered Metadata:\n",
      "  geo_accession            sample_type           individual_id        stage  \\\n",
      "0  \"GSM1077598\"  \"sample type: Mucosa\"  \"individual id: A2119\"  \"Stage: --\"   \n",
      "1  \"GSM1077599\"  \"sample type: Mucosa\"  \"individual id: A2142\"  \"Stage: --\"   \n",
      "2  \"GSM1077600\"  \"sample type: Mucosa\"  \"individual id: B2104\"  \"Stage: --\"   \n",
      "3  \"GSM1077601\"  \"sample type: Mucosa\"  \"individual id: B2127\"  \"Stage: --\"   \n",
      "4  \"GSM1077602\"  \"sample type: Mucosa\"  \"individual id: B2150\"  \"Stage: --\"   \n",
      "\n",
      "            location            gender        age                   status  \n",
      "0   \"location: Left\"    \"gender: Male\"  \"age: 62\"  \"Public on Mar 14 2014\"  \n",
      "1   \"location: Left\"  \"gender: Female\"  \"age: 77\"  \"Public on Mar 14 2014\"  \n",
      "2   \"location: Left\"  \"gender: Female\"  \"age: 78\"  \"Public on Mar 14 2014\"  \n",
      "3  \"location: Right\"    \"gender: Male\"  \"age: 65\"  \"Public on Mar 14 2014\"  \n",
      "4  \"location: Right\"  \"gender: Female\"  \"age: 52\"  \"Public on Mar 14 2014\"  \n"
     ]
    }
   ],
   "source": [
    "metadata_file = \"GSE44076_metadata_all.csv\"\n",
    "metadata = pd.read_csv(metadata_file)\n",
    "\n",
    "# Select Relevant Columns\n",
    "relevant_columns = [\n",
    "    \"geo_accession\",  # Unique sample ID\n",
    "    \"sample_type\",    # Tissue type (tumor, normal, adjacent mucosa)\n",
    "    \"individual_id\",  # Individual associated with the sample\n",
    "    \"stage\",          # Cancer stage\n",
    "    \"location\",       # Tumor location\n",
    "    \"gender\",         # Gender of the individual\n",
    "    \"age\",            # Age of the individual\n",
    "    \"status\"          # Healthy or diseased status\n",
    "]\n",
    "\n",
    "metadata_filtered = metadata[relevant_columns]\n",
    "\n",
    "print(\"Filtered Metadata:\")\n",
    "print(metadata_filtered.head())"
   ]
  },
  {
   "cell_type": "code",
   "execution_count": 3,
   "id": "c31788c4-8fcf-4e30-8974-c694523af241",
   "metadata": {},
   "outputs": [],
   "source": [
    "# Save Processed Metadata\n",
    "metadata_filtered.to_csv(\"GSE44076_processed_metadata.csv\", index=False)"
   ]
  },
  {
   "cell_type": "code",
   "execution_count": 4,
   "id": "87a03dad-025a-4b49-8fe6-49693eac14de",
   "metadata": {},
   "outputs": [
    {
     "name": "stdout",
     "output_type": "stream",
     "text": [
      "Cleaned metadata saved to GSE44076_cleaned_metadata.csv\n"
     ]
    },
    {
     "name": "stderr",
     "output_type": "stream",
     "text": [
      "C:\\Users\\88018\\AppData\\Local\\Temp\\ipykernel_7524\\4056089637.py:2: FutureWarning: DataFrame.applymap has been deprecated. Use DataFrame.map instead.\n",
      "  metadata_filtered = metadata_filtered.applymap(lambda x: str(x).replace('\"', '') if isinstance(x, str) else x)\n",
      "C:\\Users\\88018\\AppData\\Local\\Temp\\ipykernel_7524\\4056089637.py:15: FutureWarning: DataFrame.applymap has been deprecated. Use DataFrame.map instead.\n",
      "  metadata_filtered = metadata_filtered.applymap(clean_cell)\n"
     ]
    }
   ],
   "source": [
    "# Remove double quotes from all cells\n",
    "metadata_filtered = metadata_filtered.applymap(lambda x: str(x).replace('\"', '') if isinstance(x, str) else x)\n",
    "\n",
    "# Remove unwanted substrings from all data cells\n",
    "substrings_to_remove = [\"individual id:\", \"Stage:\", \"gender:\",\"age:\", \"location:\", \"sample type:\"]\n",
    "\n",
    "# Function to clean substrings in a cell\n",
    "def clean_cell(cell):\n",
    "    if isinstance(cell, str):  # Only process strings\n",
    "        for substring in substrings_to_remove:\n",
    "            cell = cell.replace(substring, '').strip()  # Remove and strip extra spaces\n",
    "    return cell\n",
    "\n",
    "# Apply the cleaning function to all cells\n",
    "metadata_filtered = metadata_filtered.applymap(clean_cell)\n",
    "\n",
    "# Save the cleaned metadata to a new CSV file\n",
    "output_file = \"GSE44076_cleaned_metadata.csv\"\n",
    "metadata_filtered.to_csv(output_file, index=False)\n",
    "\n",
    "print(f\"Cleaned metadata saved to {output_file}\")\n"
   ]
  },
  {
   "cell_type": "code",
   "execution_count": 5,
   "id": "8da17b8d-6a54-4b35-a783-b178d1e25d48",
   "metadata": {},
   "outputs": [
    {
     "data": {
      "text/html": [
       "<div>\n",
       "<style scoped>\n",
       "    .dataframe tbody tr th:only-of-type {\n",
       "        vertical-align: middle;\n",
       "    }\n",
       "\n",
       "    .dataframe tbody tr th {\n",
       "        vertical-align: top;\n",
       "    }\n",
       "\n",
       "    .dataframe thead th {\n",
       "        text-align: right;\n",
       "    }\n",
       "</style>\n",
       "<table border=\"1\" class=\"dataframe\">\n",
       "  <thead>\n",
       "    <tr style=\"text-align: right;\">\n",
       "      <th></th>\n",
       "      <th>geo_accession</th>\n",
       "      <th>sample_type</th>\n",
       "      <th>individual_id</th>\n",
       "      <th>stage</th>\n",
       "      <th>location</th>\n",
       "      <th>gender</th>\n",
       "      <th>age</th>\n",
       "      <th>status</th>\n",
       "    </tr>\n",
       "  </thead>\n",
       "  <tbody>\n",
       "    <tr>\n",
       "      <th>0</th>\n",
       "      <td>GSM1077598</td>\n",
       "      <td>Mucosa</td>\n",
       "      <td>A2119</td>\n",
       "      <td>--</td>\n",
       "      <td>Left</td>\n",
       "      <td>Male</td>\n",
       "      <td>62</td>\n",
       "      <td>Public on Mar 14 2014</td>\n",
       "    </tr>\n",
       "    <tr>\n",
       "      <th>1</th>\n",
       "      <td>GSM1077599</td>\n",
       "      <td>Mucosa</td>\n",
       "      <td>A2142</td>\n",
       "      <td>--</td>\n",
       "      <td>Left</td>\n",
       "      <td>Female</td>\n",
       "      <td>77</td>\n",
       "      <td>Public on Mar 14 2014</td>\n",
       "    </tr>\n",
       "    <tr>\n",
       "      <th>2</th>\n",
       "      <td>GSM1077600</td>\n",
       "      <td>Mucosa</td>\n",
       "      <td>B2104</td>\n",
       "      <td>--</td>\n",
       "      <td>Left</td>\n",
       "      <td>Female</td>\n",
       "      <td>78</td>\n",
       "      <td>Public on Mar 14 2014</td>\n",
       "    </tr>\n",
       "    <tr>\n",
       "      <th>3</th>\n",
       "      <td>GSM1077601</td>\n",
       "      <td>Mucosa</td>\n",
       "      <td>B2127</td>\n",
       "      <td>--</td>\n",
       "      <td>Right</td>\n",
       "      <td>Male</td>\n",
       "      <td>65</td>\n",
       "      <td>Public on Mar 14 2014</td>\n",
       "    </tr>\n",
       "    <tr>\n",
       "      <th>4</th>\n",
       "      <td>GSM1077602</td>\n",
       "      <td>Mucosa</td>\n",
       "      <td>B2150</td>\n",
       "      <td>--</td>\n",
       "      <td>Right</td>\n",
       "      <td>Female</td>\n",
       "      <td>52</td>\n",
       "      <td>Public on Mar 14 2014</td>\n",
       "    </tr>\n",
       "  </tbody>\n",
       "</table>\n",
       "</div>"
      ],
      "text/plain": [
       "  geo_accession sample_type individual_id stage location  gender age  \\\n",
       "0    GSM1077598      Mucosa         A2119    --     Left    Male  62   \n",
       "1    GSM1077599      Mucosa         A2142    --     Left  Female  77   \n",
       "2    GSM1077600      Mucosa         B2104    --     Left  Female  78   \n",
       "3    GSM1077601      Mucosa         B2127    --    Right    Male  65   \n",
       "4    GSM1077602      Mucosa         B2150    --    Right  Female  52   \n",
       "\n",
       "                  status  \n",
       "0  Public on Mar 14 2014  \n",
       "1  Public on Mar 14 2014  \n",
       "2  Public on Mar 14 2014  \n",
       "3  Public on Mar 14 2014  \n",
       "4  Public on Mar 14 2014  "
      ]
     },
     "execution_count": 5,
     "metadata": {},
     "output_type": "execute_result"
    }
   ],
   "source": [
    "metadata_filtered.head()"
   ]
  },
  {
   "cell_type": "code",
   "execution_count": 6,
   "id": "5618d865-fb14-453e-a270-1ca9c25228bd",
   "metadata": {},
   "outputs": [
    {
     "data": {
      "text/html": [
       "<div>\n",
       "<style scoped>\n",
       "    .dataframe tbody tr th:only-of-type {\n",
       "        vertical-align: middle;\n",
       "    }\n",
       "\n",
       "    .dataframe tbody tr th {\n",
       "        vertical-align: top;\n",
       "    }\n",
       "\n",
       "    .dataframe thead th {\n",
       "        text-align: right;\n",
       "    }\n",
       "</style>\n",
       "<table border=\"1\" class=\"dataframe\">\n",
       "  <thead>\n",
       "    <tr style=\"text-align: right;\">\n",
       "      <th></th>\n",
       "      <th>geo_accession</th>\n",
       "      <th>sample_type</th>\n",
       "      <th>individual_id</th>\n",
       "      <th>stage</th>\n",
       "      <th>location</th>\n",
       "      <th>gender</th>\n",
       "      <th>age</th>\n",
       "      <th>status</th>\n",
       "    </tr>\n",
       "  </thead>\n",
       "  <tbody>\n",
       "    <tr>\n",
       "      <th>241</th>\n",
       "      <td>GSM1077839</td>\n",
       "      <td>Tumor</td>\n",
       "      <td>Y2099</td>\n",
       "      <td>IIA</td>\n",
       "      <td>Right</td>\n",
       "      <td>Male</td>\n",
       "      <td>72</td>\n",
       "      <td>Public on Mar 14 2014</td>\n",
       "    </tr>\n",
       "    <tr>\n",
       "      <th>242</th>\n",
       "      <td>GSM1077840</td>\n",
       "      <td>Tumor</td>\n",
       "      <td>Z2015</td>\n",
       "      <td>IIA</td>\n",
       "      <td>Right</td>\n",
       "      <td>Male</td>\n",
       "      <td>84</td>\n",
       "      <td>Public on Mar 14 2014</td>\n",
       "    </tr>\n",
       "    <tr>\n",
       "      <th>243</th>\n",
       "      <td>GSM1077841</td>\n",
       "      <td>Tumor</td>\n",
       "      <td>Z2038</td>\n",
       "      <td>IIA</td>\n",
       "      <td>Right</td>\n",
       "      <td>Female</td>\n",
       "      <td>65</td>\n",
       "      <td>Public on Mar 14 2014</td>\n",
       "    </tr>\n",
       "    <tr>\n",
       "      <th>244</th>\n",
       "      <td>GSM1077842</td>\n",
       "      <td>Tumor</td>\n",
       "      <td>Z2061</td>\n",
       "      <td>IIA</td>\n",
       "      <td>Left</td>\n",
       "      <td>Male</td>\n",
       "      <td>53</td>\n",
       "      <td>Public on Mar 14 2014</td>\n",
       "    </tr>\n",
       "    <tr>\n",
       "      <th>245</th>\n",
       "      <td>GSM1077843</td>\n",
       "      <td>Tumor</td>\n",
       "      <td>Z2084</td>\n",
       "      <td>IIA</td>\n",
       "      <td>Left</td>\n",
       "      <td>Male</td>\n",
       "      <td>81</td>\n",
       "      <td>Public on Mar 14 2014</td>\n",
       "    </tr>\n",
       "  </tbody>\n",
       "</table>\n",
       "</div>"
      ],
      "text/plain": [
       "    geo_accession sample_type individual_id stage location  gender age  \\\n",
       "241    GSM1077839       Tumor         Y2099   IIA    Right    Male  72   \n",
       "242    GSM1077840       Tumor         Z2015   IIA    Right    Male  84   \n",
       "243    GSM1077841       Tumor         Z2038   IIA    Right  Female  65   \n",
       "244    GSM1077842       Tumor         Z2061   IIA     Left    Male  53   \n",
       "245    GSM1077843       Tumor         Z2084   IIA     Left    Male  81   \n",
       "\n",
       "                    status  \n",
       "241  Public on Mar 14 2014  \n",
       "242  Public on Mar 14 2014  \n",
       "243  Public on Mar 14 2014  \n",
       "244  Public on Mar 14 2014  \n",
       "245  Public on Mar 14 2014  "
      ]
     },
     "execution_count": 6,
     "metadata": {},
     "output_type": "execute_result"
    }
   ],
   "source": [
    "metadata_filtered.tail()"
   ]
  },
  {
   "cell_type": "code",
   "execution_count": 9,
   "id": "9d0bb724-6a28-4b59-a923-2f9b7ac5e010",
   "metadata": {},
   "outputs": [
    {
     "data": {
      "text/html": [
       "<div>\n",
       "<style scoped>\n",
       "    .dataframe tbody tr th:only-of-type {\n",
       "        vertical-align: middle;\n",
       "    }\n",
       "\n",
       "    .dataframe tbody tr th {\n",
       "        vertical-align: top;\n",
       "    }\n",
       "\n",
       "    .dataframe thead th {\n",
       "        text-align: right;\n",
       "    }\n",
       "</style>\n",
       "<table border=\"1\" class=\"dataframe\">\n",
       "  <thead>\n",
       "    <tr style=\"text-align: right;\">\n",
       "      <th></th>\n",
       "      <th>geo_accession</th>\n",
       "      <th>sample_type</th>\n",
       "      <th>individual_id</th>\n",
       "      <th>stage</th>\n",
       "      <th>location</th>\n",
       "      <th>gender</th>\n",
       "      <th>age</th>\n",
       "      <th>status</th>\n",
       "    </tr>\n",
       "  </thead>\n",
       "  <tbody>\n",
       "    <tr>\n",
       "      <th>count</th>\n",
       "      <td>246</td>\n",
       "      <td>246</td>\n",
       "      <td>246</td>\n",
       "      <td>246</td>\n",
       "      <td>246</td>\n",
       "      <td>246</td>\n",
       "      <td>246</td>\n",
       "      <td>246</td>\n",
       "    </tr>\n",
       "    <tr>\n",
       "      <th>unique</th>\n",
       "      <td>246</td>\n",
       "      <td>3</td>\n",
       "      <td>148</td>\n",
       "      <td>3</td>\n",
       "      <td>2</td>\n",
       "      <td>2</td>\n",
       "      <td>45</td>\n",
       "      <td>1</td>\n",
       "    </tr>\n",
       "    <tr>\n",
       "      <th>top</th>\n",
       "      <td>GSM1077598</td>\n",
       "      <td>Normal</td>\n",
       "      <td>F2100</td>\n",
       "      <td>--</td>\n",
       "      <td>Left</td>\n",
       "      <td>Male</td>\n",
       "      <td>79</td>\n",
       "      <td>Public on Mar 14 2014</td>\n",
       "    </tr>\n",
       "    <tr>\n",
       "      <th>freq</th>\n",
       "      <td>1</td>\n",
       "      <td>98</td>\n",
       "      <td>2</td>\n",
       "      <td>148</td>\n",
       "      <td>143</td>\n",
       "      <td>169</td>\n",
       "      <td>16</td>\n",
       "      <td>246</td>\n",
       "    </tr>\n",
       "  </tbody>\n",
       "</table>\n",
       "</div>"
      ],
      "text/plain": [
       "       geo_accession sample_type individual_id stage location gender  age  \\\n",
       "count            246         246           246   246      246    246  246   \n",
       "unique           246           3           148     3        2      2   45   \n",
       "top       GSM1077598      Normal         F2100    --     Left   Male   79   \n",
       "freq               1          98             2   148      143    169   16   \n",
       "\n",
       "                       status  \n",
       "count                     246  \n",
       "unique                      1  \n",
       "top     Public on Mar 14 2014  \n",
       "freq                      246  "
      ]
     },
     "execution_count": 9,
     "metadata": {},
     "output_type": "execute_result"
    }
   ],
   "source": [
    "metadata_filtered.describe()"
   ]
  },
  {
   "cell_type": "code",
   "execution_count": 10,
   "id": "a0e4fc11-185c-4100-bab1-2053532dade7",
   "metadata": {},
   "outputs": [
    {
     "name": "stdout",
     "output_type": "stream",
     "text": [
      "<class 'pandas.core.frame.DataFrame'>\n",
      "RangeIndex: 246 entries, 0 to 245\n",
      "Data columns (total 8 columns):\n",
      " #   Column         Non-Null Count  Dtype \n",
      "---  ------         --------------  ----- \n",
      " 0   geo_accession  246 non-null    object\n",
      " 1   sample_type    246 non-null    object\n",
      " 2   individual_id  246 non-null    object\n",
      " 3   stage          246 non-null    object\n",
      " 4   location       246 non-null    object\n",
      " 5   gender         246 non-null    object\n",
      " 6   age            246 non-null    object\n",
      " 7   status         246 non-null    object\n",
      "dtypes: object(8)\n",
      "memory usage: 15.5+ KB\n"
     ]
    }
   ],
   "source": [
    "metadata_filtered.info()"
   ]
  },
  {
   "cell_type": "code",
   "execution_count": 11,
   "id": "9405b1ab-2f6c-4a1c-b6fd-0c0ba54d0635",
   "metadata": {},
   "outputs": [
    {
     "data": {
      "text/plain": [
       "(246, 8)"
      ]
     },
     "execution_count": 11,
     "metadata": {},
     "output_type": "execute_result"
    }
   ],
   "source": [
    "metadata_filtered.shape"
   ]
  }
 ],
 "metadata": {
  "kernelspec": {
   "display_name": "Python 3 (ipykernel)",
   "language": "python",
   "name": "python3"
  },
  "language_info": {
   "codemirror_mode": {
    "name": "ipython",
    "version": 3
   },
   "file_extension": ".py",
   "mimetype": "text/x-python",
   "name": "python",
   "nbconvert_exporter": "python",
   "pygments_lexer": "ipython3",
   "version": "3.11.7"
  }
 },
 "nbformat": 4,
 "nbformat_minor": 5
}
